{
 "cells": [
  {
   "cell_type": "code",
   "execution_count": null,
   "metadata": {},
   "outputs": [],
   "source": [
    "import flair\n",
    "from flair.models import TextClassifier\n",
    "flair_sentiment = TextClassifier.load('en-sentiment')\n",
    "text=\"Avengers: Infinity War is a giant battle for which directors Anthony and Joe Russo have given us touches of JRR Tolkien’s Return of the King and JK Rowling’s Harry Potter and the Deathly Hallows. The film delivers the sugar-rush of spectacle and some very amusing one-liners.\"\n",
    "sentence=flair.data.Sentence(text)\n",
    "flair_sentiment.predict(sentence)\n",
    "total_sentiment = sentence.labels\n",
    "print(total_sentiment)"
   ]
  },
  {
   "cell_type": "code",
   "execution_count": null,
   "metadata": {},
   "outputs": [],
   "source": [
    "import pandas as pd\n",
    "df = pd.read_csv(\"posts_with_sentiment.csv\")\n",
    "print(df)"
   ]
  },
  {
   "cell_type": "code",
   "execution_count": null,
   "metadata": {},
   "outputs": [],
   "source": [
    "flair_sentiment = TextClassifier.load('en-sentiment')\n",
    "\n",
    "def get_flair_sentiment(text):\n",
    "  sentence=flair.data.Sentence(text)\n",
    "  flair_sentiment.predict(sentence)\n",
    "  total_sentiment = sentence.labels\n",
    "  return total_sentiment[0]\n",
    "\n",
    "df['flair_sentiment'] = [get_flair_sentiment(x) for x in df['text']]\n",
    "print(df)"
   ]
  },
  {
   "cell_type": "code",
   "execution_count": null,
   "metadata": {},
   "outputs": [],
   "source": [
    "df.to_csv('posts_with_sentiment_flair.csv', sep=',')"
   ]
  }
 ],
 "metadata": {
  "kernelspec": {
   "display_name": "Python 3",
   "language": "python",
   "name": "python3"
  },
  "language_info": {
   "codemirror_mode": {
    "name": "ipython",
    "version": 3
   },
   "file_extension": ".py",
   "mimetype": "text/x-python",
   "name": "python",
   "nbconvert_exporter": "python",
   "pygments_lexer": "ipython3",
   "version": "3.7.6"
  }
 },
 "nbformat": 4,
 "nbformat_minor": 4
}
