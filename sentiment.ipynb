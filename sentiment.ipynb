{
 "cells": [
  {
   "cell_type": "code",
   "execution_count": 1,
   "metadata": {},
   "outputs": [
    {
     "name": "stdout",
     "output_type": "stream",
     "text": [
      "Sentiment(polarity=1.0, subjectivity=0.75)\n"
     ]
    }
   ],
   "source": [
    "from textblob import TextBlob\n",
    "\n",
    "testimonial = TextBlob(\"The food was great!\")\n",
    "print(testimonial.sentiment)"
   ]
  },
  {
   "cell_type": "code",
   "execution_count": 18,
   "metadata": {},
   "outputs": [
    {
     "name": "stdout",
     "output_type": "stream",
     "text": [
      "0.594\n",
      "The food was great!---------------------------------------------- {'neg': 0.0, 'neu': 0.406, 'pos': 0.594, 'compound': 0.6588}\n"
     ]
    }
   ],
   "source": [
    "# Vader Sentiment is supposedly optimized for social media posts\n",
    "from vaderSentiment.vaderSentiment import SentimentIntensityAnalyzer\n",
    "\n",
    "analyzer = SentimentIntensityAnalyzer()\n",
    "sentence = \"The food was great!\" \n",
    "vs = analyzer.polarity_scores(sentence)\n",
    "print(vs['pos'])\n",
    "print(\"{:-<65} {}\".format(sentence, str(vs)))"
   ]
  },
  {
   "cell_type": "code",
   "execution_count": 15,
   "metadata": {},
   "outputs": [
    {
     "name": "stdout",
     "output_type": "stream",
     "text": [
      "               post_id                                               text  \\\n",
      "0     1129571867486216  Fuck this. My house got broken for the third a...   \n",
      "1     1129571920819544  The fundamentals department just sent out info...   \n",
      "2     1129572257486177  Crazy how Bill Watterson nailed American lefti...   \n",
      "3     1129572444152825  Hi. Today’s my 21st birthday and I’m feeling r...   \n",
      "4     1129572937486109  SinemaSins: Everything wrong with Moderate Dem...   \n",
      "...                ...                                                ...   \n",
      "1950  1291771231266278                                       Norton sucks   \n",
      "1951  1291771361266265  Still haven’t secured an internship for next s...   \n",
      "1952  1291771454599589  I have a huge crush on my art prof and it’s be...   \n",
      "1953  1291771471266254     Anyone else get an email about phi beta kappa?   \n",
      "1954  1291771571266244  Type: Robbery\\nDate: 11/15/2021 10:45 AM\\nDesc...   \n",
      "\n",
      "                     time   timestamp  likes  comments  shares  \n",
      "0     2021-03-08 21:31:48  1615260708    0.0         2       0  \n",
      "1     2021-03-08 21:31:56  1615260716    0.0         0       0  \n",
      "2     2021-03-08 21:32:54  1615260774    1.0         2       0  \n",
      "3     2021-03-08 21:33:14  1615260794    0.0         0       0  \n",
      "4     2021-03-08 21:34:05  1615260845    1.0         0       0  \n",
      "...                   ...         ...    ...       ...     ...  \n",
      "1950  2021-11-21 08:04:35  1637503475    0.0         0       0  \n",
      "1951  2021-11-21 08:04:43  1637503483    0.0         0       0  \n",
      "1952  2021-11-21 08:04:53  1637503493    0.0         0       0  \n",
      "1953  2021-11-21 08:04:56  1637503496    0.0         0       0  \n",
      "1954  2021-11-21 08:05:10  1637503510    0.0         0       0  \n",
      "\n",
      "[1955 rows x 7 columns]\n"
     ]
    }
   ],
   "source": [
    "import pandas as pd\n",
    "\n",
    "df = pd.read_csv(\"cleaned_posts_new.csv\")\n",
    "print(df)"
   ]
  },
  {
   "cell_type": "code",
   "execution_count": 19,
   "metadata": {},
   "outputs": [
    {
     "name": "stdout",
     "output_type": "stream",
     "text": [
      "               post_id                                               text  \\\n",
      "0     1129571867486216  Fuck this. My house got broken for the third a...   \n",
      "1     1129571920819544  The fundamentals department just sent out info...   \n",
      "2     1129572257486177  Crazy how Bill Watterson nailed American lefti...   \n",
      "3     1129572444152825  Hi. Today’s my 21st birthday and I’m feeling r...   \n",
      "4     1129572937486109  SinemaSins: Everything wrong with Moderate Dem...   \n",
      "...                ...                                                ...   \n",
      "1950  1291771231266278                                       Norton sucks   \n",
      "1951  1291771361266265  Still haven’t secured an internship for next s...   \n",
      "1952  1291771454599589  I have a huge crush on my art prof and it’s be...   \n",
      "1953  1291771471266254     Anyone else get an email about phi beta kappa?   \n",
      "1954  1291771571266244  Type: Robbery\\nDate: 11/15/2021 10:45 AM\\nDesc...   \n",
      "\n",
      "                     time   timestamp  likes  comments  shares  compound  \\\n",
      "0     2021-03-08 21:31:48  1615260708    0.0         2       0   -0.9702   \n",
      "1     2021-03-08 21:31:56  1615260716    0.0         0       0    0.6705   \n",
      "2     2021-03-08 21:32:54  1615260774    1.0         2       0   -0.3400   \n",
      "3     2021-03-08 21:33:14  1615260794    0.0         0       0    0.4014   \n",
      "4     2021-03-08 21:34:05  1615260845    1.0         0       0   -0.4767   \n",
      "...                   ...         ...    ...       ...     ...       ...   \n",
      "1950  2021-11-21 08:04:35  1637503475    0.0         0       0   -0.3612   \n",
      "1951  2021-11-21 08:04:43  1637503483    0.0         0       0    0.8442   \n",
      "1952  2021-11-21 08:04:53  1637503493    0.0         0       0    0.6124   \n",
      "1953  2021-11-21 08:04:56  1637503496    0.0         0       0    0.0000   \n",
      "1954  2021-11-21 08:05:10  1637503510    0.0         0       0   -0.5106   \n",
      "\n",
      "        neg    neu    pos  \n",
      "0     0.374  0.626  0.000  \n",
      "1     0.000  0.904  0.096  \n",
      "2     0.231  0.769  0.000  \n",
      "3     0.077  0.828  0.095  \n",
      "4     0.237  0.763  0.000  \n",
      "...     ...    ...    ...  \n",
      "1950  0.714  0.286  0.000  \n",
      "1951  0.043  0.775  0.183  \n",
      "1952  0.070  0.788  0.143  \n",
      "1953  0.000  1.000  0.000  \n",
      "1954  0.091  0.909  0.000  \n",
      "\n",
      "[1955 rows x 11 columns]\n"
     ]
    }
   ],
   "source": [
    "analyzer = SentimentIntensityAnalyzer()\n",
    "df['compound'] = [analyzer.polarity_scores(x)['compound'] for x in df['text']]\n",
    "df['neg'] = [analyzer.polarity_scores(x)['neg'] for x in df['text']]\n",
    "df['neu'] = [analyzer.polarity_scores(x)['neu'] for x in df['text']]\n",
    "df['pos'] = [analyzer.polarity_scores(x)['pos'] for x in df['text']]\n",
    "\n",
    "print(df)"
   ]
  },
  {
   "cell_type": "code",
   "execution_count": 21,
   "metadata": {},
   "outputs": [],
   "source": [
    "df.to_csv('posts_with_sentiment.csv', sep=',')"
   ]
  },
  {
   "cell_type": "code",
   "execution_count": null,
   "metadata": {},
   "outputs": [],
   "source": []
  },
  {
   "cell_type": "code",
   "execution_count": null,
   "metadata": {},
   "outputs": [],
   "source": []
  }
 ],
 "metadata": {
  "kernelspec": {
   "display_name": "Python 3",
   "language": "python",
   "name": "python3"
  },
  "language_info": {
   "codemirror_mode": {
    "name": "ipython",
    "version": 3
   },
   "file_extension": ".py",
   "mimetype": "text/x-python",
   "name": "python",
   "nbconvert_exporter": "python",
   "pygments_lexer": "ipython3",
   "version": "3.7.6"
  }
 },
 "nbformat": 4,
 "nbformat_minor": 4
}
