{
 "cells": [
  {
   "cell_type": "code",
   "execution_count": 1,
   "metadata": {},
   "outputs": [],
   "source": [
    "import pandas as pd\n",
    "df = pd.read_csv('secrets_page_posts_edited.csv', sep=',',index_col=0)\n",
    "#print(df.head())"
   ]
  },
  {
   "cell_type": "code",
   "execution_count": 2,
   "metadata": {},
   "outputs": [],
   "source": [
    "# Drop the row with the group's rules\n",
    "df = df[1:]\n",
    "#print(df.head())"
   ]
  },
  {
   "cell_type": "code",
   "execution_count": 3,
   "metadata": {},
   "outputs": [],
   "source": [
    "#print(df['text'])"
   ]
  },
  {
   "cell_type": "code",
   "execution_count": 4,
   "metadata": {},
   "outputs": [
    {
     "name": "stdout",
     "output_type": "stream",
     "text": [
      "post_id\n",
      "1289439504832784    #UChicagoSecrets45579 https://submit.crush.nin...\n",
      "Name: text, dtype: object\n"
     ]
    }
   ],
   "source": [
    "#pd.set_option('display.max_colwidth', None)\n",
    "\n",
    "print(str(df[0:1]['text']))"
   ]
  },
  {
   "cell_type": "code",
   "execution_count": 5,
   "metadata": {},
   "outputs": [],
   "source": [
    "# drop the header on each post\n",
    "import re\n",
    "\n",
    "df['text'].replace(to_replace=\"#UChicagoSecrets[A-Za-z0-9_]+\", value='', inplace=True, regex=True)\n",
    "df['text'].replace(to_replace=\"https://submit.crush.ninja/secretsuchicago\", value='', inplace=True, regex=True)\n",
    "df.columns = df.columns.str.lstrip()"
   ]
  },
  {
   "cell_type": "code",
   "execution_count": 6,
   "metadata": {},
   "outputs": [],
   "source": [
    "#print(df)"
   ]
  },
  {
   "cell_type": "code",
   "execution_count": 7,
   "metadata": {},
   "outputs": [
    {
     "name": "stderr",
     "output_type": "stream",
     "text": [
      "/Users/ellynliu/anaconda3/lib/python3.7/site-packages/ipykernel_launcher.py:3: SettingWithCopyWarning: \n",
      "A value is trying to be set on a copy of a slice from a DataFrame.\n",
      "Try using .loc[row_indexer,col_indexer] = value instead\n",
      "\n",
      "See the caveats in the documentation: https://pandas.pydata.org/pandas-docs/stable/user_guide/indexing.html#returning-a-view-versus-a-copy\n",
      "  This is separate from the ipykernel package so we can avoid doing imports until\n"
     ]
    }
   ],
   "source": [
    "# Create a new dataframe for these select columns and remove the newline character\n",
    "df1 = df[['text', 'time', 'timestamp', 'likes', 'comments', 'shares']]\n",
    "df1['text'] = df1['text'].str.lstrip()\n",
    "\n",
    "#print(df1)"
   ]
  },
  {
   "cell_type": "code",
   "execution_count": 8,
   "metadata": {},
   "outputs": [
    {
     "name": "stdout",
     "output_type": "stream",
     "text": [
      "                                                               text  \\\n",
      "post_id                                                               \n",
      "1289439504832784  A couple of points:\\n- I know UCPD can't solve...   \n",
      "1289421228167945  You need to take economics of crime with levit...   \n",
      "1289420161501385  anyone else have no idea whats happening in ab...   \n",
      "1289420078168060  I wish I knew whether you actually wanted to g...   \n",
      "1289419888168079  Where can I study on campus without needing to...   \n",
      "...                                                             ...   \n",
      "1290727691370632  \"don't wear a Goose or AirPod Pros off campus ...   \n",
      "1290727648037303  I think at some deep level what we’re witnessi...   \n",
      "1290727628037305  i feel like the white saviors don’t understand...   \n",
      "1290727614703973                        not a beginners thing stfu.   \n",
      "1289653564811378  95% of you are privileged rich children who’ve...   \n",
      "\n",
      "                                 time   timestamp  likes  comments  shares  \n",
      "post_id                                                                     \n",
      "1289439504832784  2021-11-17 14:37:11  1637181431    7.0         0       0  \n",
      "1289421228167945  2021-11-17 13:55:36  1637178936    2.0         0       0  \n",
      "1289420161501385  2021-11-17 13:53:24  1637178804    1.0         0       0  \n",
      "1289420078168060  2021-11-17 13:53:11  1637178791    0.0         0       0  \n",
      "1289419888168079  2021-11-17 13:52:49  1637178769    0.0         0       0  \n",
      "...                               ...         ...    ...       ...     ...  \n",
      "1290727691370632  2021-11-19 15:19:56  1637356796    8.0         3       0  \n",
      "1290727648037303  2021-11-19 15:19:53  1637356793    0.0         1       0  \n",
      "1290727628037305  2021-11-19 15:19:50  1637356790    0.0         0       0  \n",
      "1290727614703973  2021-11-19 15:19:46  1637356786    0.0         0       0  \n",
      "1289653564811378  2021-11-17 23:23:30  1637213010    0.0         0       0  \n",
      "\n",
      "[1955 rows x 6 columns]\n"
     ]
    }
   ],
   "source": [
    "# Drop any rows that don't have a text (likely an image was posted with no description)\n",
    "df1 = df1[df1['text'].replace(\" \", '').map(len) > 2]\n",
    "print(df1)"
   ]
  },
  {
   "cell_type": "code",
   "execution_count": 11,
   "metadata": {},
   "outputs": [],
   "source": [
    "df1 = df1.sort_values(by=['timestamp'])\n",
    "\n",
    "df1.to_csv('cleaned_posts.csv', sep='\\t')"
   ]
  },
  {
   "cell_type": "code",
   "execution_count": null,
   "metadata": {},
   "outputs": [],
   "source": []
  },
  {
   "cell_type": "code",
   "execution_count": null,
   "metadata": {},
   "outputs": [],
   "source": []
  }
 ],
 "metadata": {
  "kernelspec": {
   "display_name": "Python 3",
   "language": "python",
   "name": "python3"
  },
  "language_info": {
   "codemirror_mode": {
    "name": "ipython",
    "version": 3
   },
   "file_extension": ".py",
   "mimetype": "text/x-python",
   "name": "python",
   "nbconvert_exporter": "python",
   "pygments_lexer": "ipython3",
   "version": "3.7.6"
  }
 },
 "nbformat": 4,
 "nbformat_minor": 4
}
